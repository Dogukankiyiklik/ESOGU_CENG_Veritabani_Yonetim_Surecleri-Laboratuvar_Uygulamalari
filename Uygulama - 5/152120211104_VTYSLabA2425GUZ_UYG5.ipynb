{
    "cells": [
        {
            "attachments": {},
            "cell_type": "markdown",
            "metadata": {
                "azdata_cell_guid": "191b16b7-62a4-40ee-b20a-895801b17c29"
            },
            "source": [
                "**Adı:**  Doğukan\n",
                "\n",
                "**Soyadı:**  Kıyıklık\n",
                "\n",
                "**Numarası:** 152120211104\n",
                "\n",
                "**Şubesi:** A"
            ]
        },
        {
            "cell_type": "code",
            "execution_count": null,
            "metadata": {
                "azdata_cell_guid": "186333c3-4502-4fd7-a2e4-22879c0a0c25",
                "language": "sql"
            },
            "outputs": [],
            "source": [
                "-- 1) 2016 model yılına ait olan ve liste fiyatı 500’den fazla olan tüm ürünleri, bunların marka ve kategori isimleriyle birlikte listeleyen bir SQL sorgusu yazınız. Bu soruyu gerçekleştirirken INNER JOIN ifadesini kullanınız. (10p) --\n",
                "SELECT production.categories.category_name, production.brands.brand_name\n",
                "FROM production.products AS PP\n",
                "INNER JOIN production.categories ON PP.category_id = production.categories.category_id\n",
                "INNER JOIN production.brands ON PP.brand_id = production.brands.brand_id\n",
                "WHERE PP.model_year = 2016 AND PP.list_price > 500\n"
            ]
        },
        {
            "cell_type": "code",
            "execution_count": null,
            "metadata": {
                "azdata_cell_guid": "00e413e3-410c-4a7a-8b50-c88251b1bbb0",
                "language": "sql"
            },
            "outputs": [],
            "source": [
                "-- 2) Hiç sipariş edilmemiş ürünlerin sayısını listeleyen bir SQL sorgusu yazınız. Bu soruyu gerçekleştirirken LEFT JOIN ifadesini kullanınız. (20p) --\n",
                "\n",
                "SELECT COUNT(*) AS 'Sipariş Edilmemiş Ürün Sayısı'\n",
                "FROM production.products AS PP\n",
                "LEFT JOIN sales.order_items ON PP.product_id = sales.order_items.product_id\n",
                "WHERE sales.order_items.list_price is NULL"
            ]
        },
        {
            "cell_type": "code",
            "execution_count": null,
            "metadata": {
                "azdata_cell_guid": "a1431e3d-6b83-44bf-9269-458a4a8e65d7",
                "language": "sql"
            },
            "outputs": [],
            "source": [
                "-- 3) ‘Mercy Brown’ adlı müşterinin verdiği en yüksek sipariş tutarını listeleyen bir SQL sorgusu yazınız. Bu soruyu gerçekleştirirken RIGHT JOIN ifadesini kullanınız. (20p) --\n",
                "\n",
                "SELECT MAX(list_price * quantity) AS 'En Yüksek Sipariş Tutarı'\n",
                "FROM sales.order_items AS SOI\n",
                "RIGHT JOIN sales.orders AS SO ON SO.order_id = SOI.order_id\n",
                "RIGHT JOIN sales.customers AS SC ON SC.customer_id = SO.customer_id\n",
                "WHERE SC.first_name = 'Mercy' AND SC.last_name = 'Brown'"
            ]
        },
        {
            "cell_type": "code",
            "execution_count": null,
            "metadata": {
                "azdata_cell_guid": "bbca3add-8dd0-43b7-954d-939f529061e8",
                "language": "sql"
            },
            "outputs": [],
            "source": [
                "-- 4) Hiçbir satışta adı geçmeyen mağazaları listeleyen bir SQL sorgusu yazınız. Bu soruyu gerçekleştirirken FULL JOIN ifadesini kullanınız. (20p) --\n",
                "\n",
                "SELECT store_name\n",
                "FROM sales.stores AS SS\n",
                "FULL JOIN sales.orders AS SO ON SO.store_id = SS.store_id\n",
                "WHERE SO.store_id IS NULL"
            ]
        },
        {
            "cell_type": "code",
            "execution_count": null,
            "metadata": {
                "azdata_cell_guid": "52ffa7e5-17ae-48dc-a1a8-9d68aaa5f130",
                "language": "sql"
            },
            "outputs": [],
            "source": [
                "-- 5) ‘Cruisers Bicycles’ kategorisindeki farklı ürünlerin adlarını listeleyen bir SQL sorgusu yazınız. Bu soruyu gerçekleştirirken SELF JOIN ifadesini kullanınız. (20p) --\n",
                "SELECT DISTINCT PP1.product_name\n",
                "FROM production.products AS PP1, production.products AS PP2\n",
                "WHERE PP1.brand_id <> PP2.brand_id AND PP1.category_id = PP2. category_id AND\n",
                "PP1.category_id IN (\n",
                "SELECT category_id\n",
                "FROM production.categories AS PC\n",
                "WHERE PC.category_name = 'Cruisers Bicycles')"
            ]
        },
        {
            "cell_type": "code",
            "execution_count": null,
            "metadata": {
                "azdata_cell_guid": "e49379bb-98c5-40d3-8b65-c2ac2bc03a38",
                "language": "sql"
            },
            "outputs": [],
            "source": [
                "-- 6) ‘Trek’ markasının toplam kaç farklı ürünü olduğunu listeleyen bir SQL sorgusu yazınız. (10p) --\n",
                "\n",
                "SELECT COUNT(DISTINCT PP.product_id) AS 'Trek Ürün Sayısı'\n",
                "FROM production.brands AS PB\n",
                "INNER JOIN production.products AS PP ON PP.brand_id = PB.brand_id\n",
                "WHERE PB.brand_name = 'Trek'"
            ]
        }
    ],
    "metadata": {
        "kernelspec": {
            "display_name": "SQL",
            "language": "sql",
            "name": "SQL"
        },
        "language_info": {
            "name": "sql",
            "version": ""
        }
    },
    "nbformat": 4,
    "nbformat_minor": 2
}
